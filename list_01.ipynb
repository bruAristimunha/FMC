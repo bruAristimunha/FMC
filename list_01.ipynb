{
  "nbformat": 4,
  "nbformat_minor": 0,
  "metadata": {
    "colab": {
      "name": "Lista 01",
      "version": "0.3.2",
      "provenance": [],
      "collapsed_sections": []
    },
    "kernelspec": {
      "name": "python3",
      "display_name": "Python 3"
    }
  },
  "cells": [
    {
      "cell_type": "markdown",
      "metadata": {
        "id": "zTcd9LtZL28S",
        "colab_type": "text"
      },
      "source": [
        "## Lista de Exercício 01 - Fundamentos de Matemática para Computação.\n",
        "\n",
        "# Universidade Federal do ABC - UFABC\n",
        "## Centro de Matemática, Computação e Cognição - CMCC\n",
        "\n",
        "## Disciplina:  Fundamentos de Matemática para a Computação -  CCM-007\n",
        "\n",
        "Responsável: Prof. Dr. Saul Leite\n",
        "\n",
        "Estudantes: Bruno Aristimunha.\n",
        "\n",
        "Santo André, 20 de Fevereiro de 2019\n",
        "\n",
        "### Primeira Parte do Curso\n",
        "\n",
        "#### Objetivos\n",
        "\n",
        "O objetivo dessa lista é explorar e aplicar os conceitos de sala de aula sobre **Noção de Cálculo**.\n",
        "\n",
        "Para alcançar esse objetivo a resolução dos exercícios é necessária.\n",
        "\n",
        "\n"
      ]
    },
    {
      "cell_type": "code",
      "metadata": {
        "id": "nS9ls_eTLrzr",
        "colab_type": "code",
        "colab": {}
      },
      "source": [
        "import sympy as sp"
      ],
      "execution_count": 0,
      "outputs": []
    },
    {
      "cell_type": "markdown",
      "metadata": {
        "id": "R4sAV376qIhS",
        "colab_type": "text"
      },
      "source": [
        "---"
      ]
    },
    {
      "cell_type": "markdown",
      "metadata": {
        "id": "4_7JTi0s4TLg",
        "colab_type": "text"
      },
      "source": [
        "### Exercício 01. \n",
        "Mostrar usando indução que a derivada da função $f_n(x) = \\frac{1}{x^n}$ é dada por $f_n'(x) = \\frac{-n}{x^{n+1}}, \\forall x \\neq 0$ e $n \\geq1$. \n",
        "\n",
        "---\n",
        "\n",
        "\n",
        "**1. Caso Base:**\n",
        " \n",
        "Para n = 1 temos:\n",
        "> $ f_1(x) = \\frac{1}{x^1} = x^{-1}$,\n",
        "\n",
        "A derivada nesse caso:\n",
        "\n",
        "> $f'_1(x) = -\\frac{1}{x^{2}} $\n",
        "\n",
        "Logo o passo base é verdade.\n",
        "\n",
        "** Da hipótese de indução temos:**\n",
        "\n",
        "Assumindo que $n - 1$ é verdade temos $f'_{n-1}(x) = -\\frac{(n-1)}{x^{n}}$\n",
        "\n",
        "** Passo: **\n",
        "\n",
        "Queremos provar para $n$ do nosso enunciado, para dessa formar termos $n -1 \\implies n$.  Da hipótese de indução temos que:\n",
        "$f_{n-1}(x) =\\frac{1}{x^{n-1}}, \\text{e } f'_{n-1} = -\\frac{(n-1)}{x^n}\\\\$.\n",
        "\n",
        "$\\\\f_n (x) = \\frac{1}{x} \\cdot \\frac{1}{x^{n-1}} = f_1(x)\\cdot f_{n-1}(x)$.\n",
        "\n",
        "Empregando regra do produto na derivada, temos:\n",
        "\n",
        "> $f^{'}_n(x) = f^{'}_1(x)\\cdot f_{n-1}(x) + f_1(x)\\cdot f^{'}_{n-1}(x)\\\\$\n",
        "\n",
        ">$\\qquad \\quad = -\\frac{1}{x^2} \\cdot \\frac{1}{x^{n-1}} - \\frac{1}{x} \\cdot \\frac{(n-1)}{x^n} $\n",
        "\n",
        "\n",
        "> $ \\qquad \\quad = -\\frac{1}{x^{n+1}} - \\frac{(n-1)}{x^{n+1}} =$\n",
        "\n",
        ">$ \\qquad \\quad = (-1 -n +1) \\frac{1}{x^{n+1}} = - \\frac{n}{x^{n+1}}$\n",
        "\n",
        "c.q.d."
      ]
    },
    {
      "cell_type": "code",
      "metadata": {
        "id": "7C6Pt53lpHpK",
        "colab_type": "code",
        "outputId": "8a0e30cb-33f1-43a4-8dd3-29c45e006826",
        "colab": {
          "base_uri": "https://localhost:8080/",
          "height": 34
        }
      },
      "source": [
        "x, n = sp.symbols(\"x n\")\n",
        "print(sp.diff((1/x**n), x))"
      ],
      "execution_count": 0,
      "outputs": [
        {
          "output_type": "stream",
          "text": [
            "-n*x**(-n)/x\n"
          ],
          "name": "stdout"
        }
      ]
    },
    {
      "cell_type": "markdown",
      "metadata": {
        "id": "7r88F3_gnbqo",
        "colab_type": "text"
      },
      "source": [
        "---\n",
        "\n",
        "## Exercício 02. \n",
        "\n",
        "Mostrar que se $f$ é diferenciável no intervalo ($a,b$) e possui um mínimo local no ponto $x_0$ então $f'(x_0) = 0$.\n",
        "\n",
        "---\n",
        "\n",
        "Seja $x_0$ o mínimo local. Seja um $x < x_0$, tal que $f(x) \\leq f(x_0)$. Dessa forma:\n",
        "\n",
        "\n",
        "> $\\frac{f(x) - f(x)}{x_0 -x} \\geq 0$\n",
        "\n",
        "\n",
        "Quando aplicamos limite de x $\\to x_0$ temos que:\n",
        "\n",
        "> $f'_{+} (x_0) \\leq 0$\n",
        "\n",
        "Analogamente, temos $f'_{-}(x_0) \\geq 0$.\n",
        "\n",
        "Da definição temos a diferenciabilidade de $f$. Logo, os limites laterais convergem para $0$.\n",
        "\n",
        "> $f'(x_0) = f'_{-}(x_0) = f'_{+}(x_0)$, c.q.d.\n",
        "\n",
        "---"
      ]
    },
    {
      "cell_type": "markdown",
      "metadata": {
        "id": "XpVl6RiBMMuo",
        "colab_type": "text"
      },
      "source": [
        "\n",
        "## Exercício 03. \n",
        "Encontre o valor de $ f(x) =  \\int_{-4}^{-3} \\frac{x}{x^2 -2} dx$ usando o Teorema 11.\n",
        "\n",
        "---\n",
        "\n",
        "Supondo que $f(x)$ é contínua no intervalo definido, isso é, $x^2 -2 \\neq 0$ quando $x \\in[-3,-4]$ . Seja $u = x^2 -2$, logo, $du = 2x\\cdot dx$, manipulando temos que: $ \\frac{du}{2}=dx \\cdot x$.\n",
        "\n",
        "Substindo na nossa $f(x)$ temos:\n",
        "\n",
        "\n",
        "$\\frac{1}{2}\\int_{7}^{14} \\frac{du}{u} = \\frac{1}{2} [\\ln(u)]_{14}^7 \\\\ \\qquad \\qquad = \\frac{1}{2} [\\ln(\\frac{7}{14})] = \\frac{1}{2} \\ln (\\frac{7}{7\\cdot2}) \\\\ \\qquad \\qquad = -\\frac{1}{2} \\ln(2)$.\n",
        "\n",
        "\n",
        "\n"
      ]
    },
    {
      "cell_type": "code",
      "metadata": {
        "id": "mmYCgV3RSESD",
        "colab_type": "code",
        "outputId": "6603b365-9b7c-4f12-c21b-8f255cb19309",
        "colab": {
          "base_uri": "https://localhost:8080/",
          "height": 34
        }
      },
      "source": [
        "x = sp.symbols(\"x\")\n",
        "print(sp.integrate((x/(x**2 -2)),(x,-4,-3)))"
      ],
      "execution_count": 0,
      "outputs": [
        {
          "output_type": "stream",
          "text": [
            "-log(14)/2 + log(7)/2\n"
          ],
          "name": "stdout"
        }
      ]
    },
    {
      "cell_type": "markdown",
      "metadata": {
        "id": "THDTOTrgSEpS",
        "colab_type": "text"
      },
      "source": [
        "\n",
        "## Exercício 04. \n",
        "Encontre o valor de $\\int_{0}^{1}(t-2)\\sin({t/5})dt$ usando o Teorema 10.\n",
        "\n",
        "\n",
        "---\n",
        "\n",
        "Manipulando a função temos essas duas integrais:\n",
        "\n",
        "$\\int_{0}^{1} t\\sin(t/5) - 2 \\int_{0}^{1} \\sin(t/5)$.\n",
        "\n",
        "\n",
        "Dessa forma:\n",
        "\n",
        "> Seja, $u(t) = t  \\qquad \\quad  v'(t) = \\sin(t/5)$.\n",
        "\n",
        "> Logo, $u'(t) = 1$ $\\qquad$ $v(t) = -5 \\cos (\\frac{t}{5})$.\n",
        "\n",
        "---\n",
        "Para resolução da primeira integral usamos o Teorema 10:\n",
        "\n",
        "> $u\\cdot dv = u \\cdot v - \\int v \\cdot du,$\n",
        "\n",
        "> $\\int_{0}^{1} t \\sin(t/5) = - t \\cdot 5 \\cos(t/5) \\vert_{0}^{1}- \\int_{0}^{1} -5 \\cos(t/5) $\n",
        "\n",
        "\n",
        "> $\\int_{0}^{1} t \\sin(t/5) = - t \\cdot 5 \\cos(t/5) \\vert_{0}^{1}+5\\int_{0}^{1}  \\cos(t/5) $\n",
        "\n",
        "\n",
        "> $\\int_{0}^{1} t \\sin(t/5) = - 5 \\cdot \\cos(1/5) + 5 \\int_{0}^{1}  \\cos(t/5) $\n",
        "\n",
        "> $\\int_{0}^{1} t \\sin(t/5) = -5 \\cdot \\cos(1/5) + 5 \\cdot 5 \\sin(1/5) $\n",
        "\n",
        "---\n",
        "\n",
        "\n",
        "Para resolução da segunda integral, usando o Teorema 11 temos:\n",
        "\n",
        "> $-2 \\int_{0}^1 \\sin(t/5), \\text{seja } w = t/5 \\implies dw = dt/5 \\implies dw\\cdot 5 = dt$.\n",
        "\n",
        "\n",
        "> $-2 \\cdot 5 \\int_{0}^{\\frac{1}{5}} \\sin (w) dw =10 \\cdot \\cos(w)) \\vert_{0}^{1/5} = 10 (\\cos(1/5)  - \\cos(0)) \\\\ \\qquad \\qquad  \\qquad \\qquad \\qquad \\qquad \\qquad \\qquad \\quad = 10 (\\cos(1/5)  - 1)$ \n",
        "\n",
        "\n",
        "Juntando as duas integrais temos:\n",
        "\n",
        "> $ 5 \\cdot 5 \\sin(1/5) -5 \\cdot \\cos(1/5)  + 10 (\\cos(1/5)  - 1)$\n",
        "\n"
      ]
    },
    {
      "cell_type": "code",
      "metadata": {
        "id": "DU8IIBQEQfAF",
        "colab_type": "code",
        "outputId": "d409d70c-3138-47d7-a5f8-935b6cfeaba6",
        "colab": {
          "base_uri": "https://localhost:8080/",
          "height": 34
        }
      },
      "source": [
        "#\\int_{0}^{1}(t-2)\\sin({t/5})dt\n",
        "from sympy import *\n",
        "t = sp.symbols(\"t\")\n",
        "\n",
        "\n",
        "print(sp.integrate(((t-2)*sin(t/5))),(t,0,1))"
      ],
      "execution_count": 0,
      "outputs": [
        {
          "output_type": "stream",
          "text": [
            "-5*t*cos(t/5) + 25*sin(t/5) + 10*cos(t/5) (t, 0, 1)\n"
          ],
          "name": "stdout"
        }
      ]
    },
    {
      "cell_type": "markdown",
      "metadata": {
        "id": "hMUBGtUUdifW",
        "colab_type": "text"
      },
      "source": [
        "Nota ao professor: leva muito mais tempo para escreve em $\\LaTeX$.\n",
        "\n"
      ]
    }
  ]
}